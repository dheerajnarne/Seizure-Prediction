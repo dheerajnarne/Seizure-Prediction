{
 "cells": [
  {
   "cell_type": "code",
   "execution_count": null,
   "metadata": {
    "_cell_guid": "b1076dfc-b9ad-4769-8c92-a6c4dae69d19",
    "_uuid": "8f2839f25d086af736a60e9eeb907d3b93b6e0e5",
    "trusted": true
   },
   "outputs": [],
   "source": [
    "# This Python 3 environment comes with many helpful analytics libraries installed\n",
    "# It is defined by the kaggle/python Docker image: https://github.com/kaggle/docker-python\n",
    "# For example, here's several helpful packages to load\n",
    "\n",
    "import numpy as np # linear algebra\n",
    "import pandas as pd # data processing, CSV file I/O (e.g. pd.read_csv)\n",
    "\n",
    "# Input data files are available in the read-only \"../input/\" directory\n",
    "# For example, running this (by clicking run or pressing Shift+Enter) will list all files under the input directory\n",
    "\n",
    "import os\n",
    "for dirname, _, filenames in os.walk('/kaggle/input'):\n",
    "    for filename in filenames:\n",
    "        print(os.path.join(dirname, filename))\n",
    "\n",
    "# You can write up to 20GB to the current directory (/kaggle/working/) that gets preserved as output when you create a version using \"Save & Run All\" \n",
    "# You can also write temporary files to /kaggle/temp/, but they won't be saved outside of the current session"
   ]
  },
  {
   "cell_type": "markdown",
   "metadata": {},
   "source": [
    "# Importing Modules\n"
   ]
  },
  {
   "cell_type": "code",
   "execution_count": 4,
   "metadata": {
    "execution": {
     "iopub.execute_input": "2024-10-20T23:50:00.630259Z",
     "iopub.status.busy": "2024-10-20T23:50:00.629790Z",
     "iopub.status.idle": "2024-10-20T23:50:13.350416Z",
     "shell.execute_reply": "2024-10-20T23:50:13.349345Z",
     "shell.execute_reply.started": "2024-10-20T23:50:00.630223Z"
    },
    "trusted": true
   },
   "outputs": [],
   "source": [
    "import os\n",
    "import scipy.io\n",
    "import numpy as np\n",
    "import matplotlib.pyplot as plt\n",
    "from scipy.signal import spectrogram\n",
    "import random\n",
    "import tensorflow as tf\n",
    "from tensorflow.keras.models import Sequential, Model\n",
    "from tensorflow.keras.layers import Conv2D, MaxPooling2D, Dropout, Flatten, Dense, Input, GlobalAveragePooling2D, Multiply, Reshape\n"
   ]
  },
  {
   "cell_type": "code",
   "execution_count": 5,
   "metadata": {
    "execution": {
     "iopub.execute_input": "2024-10-20T23:50:13.352252Z",
     "iopub.status.busy": "2024-10-20T23:50:13.351702Z",
     "iopub.status.idle": "2024-10-20T23:50:13.360946Z",
     "shell.execute_reply": "2024-10-20T23:50:13.359976Z",
     "shell.execute_reply.started": "2024-10-20T23:50:13.352216Z"
    },
    "trusted": true
   },
   "outputs": [],
   "source": [
    "# Preprocessing function to load data\n",
    "def load_patient_data(patient_num, types, num_segments):\n",
    "    all_X = []\n",
    "    all_Y = []\n",
    "    base_path = f'/kaggle/input/seizure-prediction/Patient_{patient_num}/Patient_{patient_num}/'\n",
    "    \n",
    "    for i, typ in enumerate(types):\n",
    "        for j in range(num_segments):\n",
    "            fl = os.path.join(base_path, '{}_{}.mat'.format(typ, str(j + 1).zfill(4)))\n",
    "            data = scipy.io.loadmat(fl)\n",
    "            k = typ.replace(f'Patient_{patient_num}_', '') + '_'\n",
    "            d_array = data[k + str(j + 1)][0][0][0]\n",
    "            \n",
    "            lst = list(range(3000000))  # Adjust for 10 minutes\n",
    "            for m in lst[::5000]:  # Create a spectrogram every 1 second (5000 samples)\n",
    "                p_secs = d_array[0][m:m+5000]\n",
    "                p_f, p_t, p_Sxx = spectrogram(p_secs, fs=5000, return_onesided=False)\n",
    "                p_SS = np.log1p(p_Sxx)\n",
    "                arr = p_SS[:] / np.max(p_SS)\n",
    "                all_X.append(arr)\n",
    "                all_Y.append(i)\n",
    "    \n",
    "    return all_X, all_Y"
   ]
  },
  {
   "cell_type": "code",
   "execution_count": 6,
   "metadata": {
    "execution": {
     "iopub.execute_input": "2024-10-20T23:50:13.363152Z",
     "iopub.status.busy": "2024-10-20T23:50:13.362835Z",
     "iopub.status.idle": "2024-10-20T23:52:03.926949Z",
     "shell.execute_reply": "2024-10-20T23:52:03.925854Z",
     "shell.execute_reply.started": "2024-10-20T23:50:13.363120Z"
    },
    "trusted": true
   },
   "outputs": [],
   "source": [
    "# Load both Patient 1 and Patient 2 data\n",
    "types = ['Patient_1_interictal_segment', 'Patient_1_preictal_segment']\n",
    "all_X1, all_Y1 = load_patient_data(1, types, 18)\n",
    "\n",
    "types = ['Patient_2_interictal_segment', 'Patient_2_preictal_segment']\n",
    "all_X2, all_Y2 = load_patient_data(2, types, 18)\n",
    "\n",
    "# Combine data from both patients\n",
    "all_X = all_X1 + all_X2\n",
    "all_Y = all_Y1 + all_Y2"
   ]
  },
  {
   "cell_type": "code",
   "execution_count": 7,
   "metadata": {
    "execution": {
     "iopub.execute_input": "2024-10-20T23:52:03.928737Z",
     "iopub.status.busy": "2024-10-20T23:52:03.928313Z",
     "iopub.status.idle": "2024-10-20T23:52:03.991837Z",
     "shell.execute_reply": "2024-10-20T23:52:03.990818Z",
     "shell.execute_reply.started": "2024-10-20T23:52:03.928691Z"
    },
    "trusted": true
   },
   "outputs": [],
   "source": [
    "# Shuffle the data\n",
    "dataset = list(zip(all_X, all_Y))\n",
    "random.shuffle(dataset)\n",
    "all_X, all_Y = zip(*dataset)"
   ]
  },
  {
   "cell_type": "code",
   "execution_count": 8,
   "metadata": {
    "execution": {
     "iopub.execute_input": "2024-10-20T23:52:03.993468Z",
     "iopub.status.busy": "2024-10-20T23:52:03.993134Z",
     "iopub.status.idle": "2024-10-20T23:52:04.771560Z",
     "shell.execute_reply": "2024-10-20T23:52:04.770520Z",
     "shell.execute_reply.started": "2024-10-20T23:52:03.993433Z"
    },
    "trusted": true
   },
   "outputs": [],
   "source": [
    "# Convert to numpy arrays\n",
    "x_train = np.array(all_X[:42000])\n",
    "y_train = np.array(all_Y[:42000])\n",
    "x_test = np.array(all_X[42000:])\n",
    "y_test = np.array(all_Y[42000:])\n"
   ]
  },
  {
   "cell_type": "code",
   "execution_count": 9,
   "metadata": {
    "execution": {
     "iopub.execute_input": "2024-10-20T23:52:04.773159Z",
     "iopub.status.busy": "2024-10-20T23:52:04.772823Z",
     "iopub.status.idle": "2024-10-20T23:52:05.154651Z",
     "shell.execute_reply": "2024-10-20T23:52:05.153806Z",
     "shell.execute_reply.started": "2024-10-20T23:52:04.773125Z"
    },
    "trusted": true
   },
   "outputs": [],
   "source": [
    "# Reshape and normalize the data\n",
    "img_rows, img_cols = 256, 22\n",
    "x_train = x_train.reshape(x_train.shape[0], img_rows, img_cols, 1)\n",
    "x_test = x_test.reshape(x_test.shape[0], img_rows, img_cols, 1)\n",
    "x_train = x_train.astype('float32')\n",
    "x_test = x_test.astype('float32')"
   ]
  },
  {
   "cell_type": "code",
   "execution_count": 10,
   "metadata": {
    "execution": {
     "iopub.execute_input": "2024-10-20T23:52:05.156023Z",
     "iopub.status.busy": "2024-10-20T23:52:05.155732Z",
     "iopub.status.idle": "2024-10-20T23:52:05.161631Z",
     "shell.execute_reply": "2024-10-20T23:52:05.160745Z",
     "shell.execute_reply.started": "2024-10-20T23:52:05.155982Z"
    },
    "trusted": true
   },
   "outputs": [],
   "source": [
    "# Convert class vectors to binary class matrices (one-hot encoding)\n",
    "num_classes = 2\n",
    "y_train = tf.keras.utils.to_categorical(y_train, num_classes)\n",
    "y_test = tf.keras.utils.to_categorical(y_test, num_classes)\n"
   ]
  },
  {
   "cell_type": "markdown",
   "metadata": {},
   "source": [
    "# Lstms with attention mechanism"
   ]
  },
  {
   "cell_type": "code",
   "execution_count": null,
   "metadata": {
    "execution": {
     "iopub.execute_input": "2024-10-21T01:18:34.768501Z",
     "iopub.status.busy": "2024-10-21T01:18:34.768101Z",
     "iopub.status.idle": "2024-10-21T01:18:34.822633Z",
     "shell.execute_reply": "2024-10-21T01:18:34.821377Z",
     "shell.execute_reply.started": "2024-10-21T01:18:34.768464Z"
    },
    "trusted": true
   },
   "outputs": [],
   "source": [
    "from tensorflow.keras.layers import LSTM, TimeDistributed\n",
    "\n",
    "# Attention mechanism block (Self-attention)\n",
    "def attention_block(inputs):\n",
    "    channels = inputs.shape[-1]\n",
    "    attention = GlobalAveragePooling2D()(inputs)\n",
    "    attention = Dense(channels // 8, activation='relu')(attention)\n",
    "    attention = Dense(channels, activation='sigmoid')(attention)\n",
    "    attention = Reshape((1, 1, channels))(attention)\n",
    "    attention = Multiply()([inputs, attention])\n",
    "    return attention\n",
    "\n",
    "# CNN-LSTM model with attention mechanism\n",
    "input_shape = (img_rows, img_cols, 1)\n",
    "inputs = Input(shape=input_shape)\n",
    "\n",
    "# CNN layers for spatial feature extraction\n",
    "x = Conv2D(32, kernel_size=(5, 5), activation='relu')(inputs)\n",
    "x = Conv2D(32, kernel_size=(3, 3), activation='relu')(x)\n",
    "x = MaxPooling2D(pool_size=(2, 2))(x)\n",
    "x = Dropout(0.25)(x)\n",
    "\n",
    "# Apply attention mechanism after convolutional layers\n",
    "x = attention_block(x)\n",
    "\n",
    "# Reshaping for LSTM input\n",
    "# Reshape the data to (batch_size, time_steps, features) to fit LSTM requirements\n",
    "x = TimeDistributed(Flatten())(x)  # Flatten across time\n",
    "\n",
    "# LSTM layers for temporal feature extraction\n",
    "x = LSTM(64, return_sequences=False)(x)  # Add LSTM layer (no return sequences)\n",
    "x = Dropout(0.5)(x)\n",
    "\n",
    "# Output layer\n",
    "outputs = Dense(2, activation='sigmoid')(x)\n",
    "\n",
    "# Build the model\n",
    "model = Model(inputs, outputs)\n",
    "\n"
   ]
  },
  {
   "cell_type": "markdown",
   "metadata": {},
   "source": [
    "# Using 'binary_crossentropy'"
   ]
  },
  {
   "cell_type": "code",
   "execution_count": 26,
   "metadata": {
    "execution": {
     "iopub.execute_input": "2024-10-21T00:06:15.871994Z",
     "iopub.status.busy": "2024-10-21T00:06:15.871259Z",
     "iopub.status.idle": "2024-10-21T00:09:56.188263Z",
     "shell.execute_reply": "2024-10-21T00:09:56.187240Z",
     "shell.execute_reply.started": "2024-10-21T00:06:15.871954Z"
    },
    "trusted": true
   },
   "outputs": [
    {
     "data": {
      "text/html": [
       "<pre style=\"white-space:pre;overflow-x:auto;line-height:normal;font-family:Menlo,'DejaVu Sans Mono',consolas,'Courier New',monospace\"><span style=\"font-weight: bold\">Model: \"functional_9\"</span>\n",
       "</pre>\n"
      ],
      "text/plain": [
       "\u001b[1mModel: \"functional_9\"\u001b[0m\n"
      ]
     },
     "metadata": {},
     "output_type": "display_data"
    },
    {
     "data": {
      "text/html": [
       "<pre style=\"white-space:pre;overflow-x:auto;line-height:normal;font-family:Menlo,'DejaVu Sans Mono',consolas,'Courier New',monospace\">┏━━━━━━━━━━━━━━━━━━━━━┳━━━━━━━━━━━━━━━━━━━┳━━━━━━━━━━━━┳━━━━━━━━━━━━━━━━━━━┓\n",
       "┃<span style=\"font-weight: bold\"> Layer (type)        </span>┃<span style=\"font-weight: bold\"> Output Shape      </span>┃<span style=\"font-weight: bold\">    Param # </span>┃<span style=\"font-weight: bold\"> Connected to      </span>┃\n",
       "┡━━━━━━━━━━━━━━━━━━━━━╇━━━━━━━━━━━━━━━━━━━╇━━━━━━━━━━━━╇━━━━━━━━━━━━━━━━━━━┩\n",
       "│ input_layer_3       │ (<span style=\"color: #00d7ff; text-decoration-color: #00d7ff\">None</span>, <span style=\"color: #00af00; text-decoration-color: #00af00\">256</span>, <span style=\"color: #00af00; text-decoration-color: #00af00\">22</span>,   │          <span style=\"color: #00af00; text-decoration-color: #00af00\">0</span> │ -                 │\n",
       "│ (<span style=\"color: #0087ff; text-decoration-color: #0087ff\">InputLayer</span>)        │ <span style=\"color: #00af00; text-decoration-color: #00af00\">1</span>)                │            │                   │\n",
       "├─────────────────────┼───────────────────┼────────────┼───────────────────┤\n",
       "│ conv2d_6 (<span style=\"color: #0087ff; text-decoration-color: #0087ff\">Conv2D</span>)   │ (<span style=\"color: #00d7ff; text-decoration-color: #00d7ff\">None</span>, <span style=\"color: #00af00; text-decoration-color: #00af00\">252</span>, <span style=\"color: #00af00; text-decoration-color: #00af00\">18</span>,   │        <span style=\"color: #00af00; text-decoration-color: #00af00\">832</span> │ input_layer_3[<span style=\"color: #00af00; text-decoration-color: #00af00\">0</span>]… │\n",
       "│                     │ <span style=\"color: #00af00; text-decoration-color: #00af00\">32</span>)               │            │                   │\n",
       "├─────────────────────┼───────────────────┼────────────┼───────────────────┤\n",
       "│ conv2d_7 (<span style=\"color: #0087ff; text-decoration-color: #0087ff\">Conv2D</span>)   │ (<span style=\"color: #00d7ff; text-decoration-color: #00d7ff\">None</span>, <span style=\"color: #00af00; text-decoration-color: #00af00\">250</span>, <span style=\"color: #00af00; text-decoration-color: #00af00\">16</span>,   │      <span style=\"color: #00af00; text-decoration-color: #00af00\">9,248</span> │ conv2d_6[<span style=\"color: #00af00; text-decoration-color: #00af00\">0</span>][<span style=\"color: #00af00; text-decoration-color: #00af00\">0</span>]    │\n",
       "│                     │ <span style=\"color: #00af00; text-decoration-color: #00af00\">32</span>)               │            │                   │\n",
       "├─────────────────────┼───────────────────┼────────────┼───────────────────┤\n",
       "│ max_pooling2d_3     │ (<span style=\"color: #00d7ff; text-decoration-color: #00d7ff\">None</span>, <span style=\"color: #00af00; text-decoration-color: #00af00\">125</span>, <span style=\"color: #00af00; text-decoration-color: #00af00\">8</span>,    │          <span style=\"color: #00af00; text-decoration-color: #00af00\">0</span> │ conv2d_7[<span style=\"color: #00af00; text-decoration-color: #00af00\">0</span>][<span style=\"color: #00af00; text-decoration-color: #00af00\">0</span>]    │\n",
       "│ (<span style=\"color: #0087ff; text-decoration-color: #0087ff\">MaxPooling2D</span>)      │ <span style=\"color: #00af00; text-decoration-color: #00af00\">32</span>)               │            │                   │\n",
       "├─────────────────────┼───────────────────┼────────────┼───────────────────┤\n",
       "│ dropout_6 (<span style=\"color: #0087ff; text-decoration-color: #0087ff\">Dropout</span>) │ (<span style=\"color: #00d7ff; text-decoration-color: #00d7ff\">None</span>, <span style=\"color: #00af00; text-decoration-color: #00af00\">125</span>, <span style=\"color: #00af00; text-decoration-color: #00af00\">8</span>,    │          <span style=\"color: #00af00; text-decoration-color: #00af00\">0</span> │ max_pooling2d_3[<span style=\"color: #00af00; text-decoration-color: #00af00\">…</span> │\n",
       "│                     │ <span style=\"color: #00af00; text-decoration-color: #00af00\">32</span>)               │            │                   │\n",
       "├─────────────────────┼───────────────────┼────────────┼───────────────────┤\n",
       "│ global_average_poo… │ (<span style=\"color: #00d7ff; text-decoration-color: #00d7ff\">None</span>, <span style=\"color: #00af00; text-decoration-color: #00af00\">32</span>)        │          <span style=\"color: #00af00; text-decoration-color: #00af00\">0</span> │ dropout_6[<span style=\"color: #00af00; text-decoration-color: #00af00\">0</span>][<span style=\"color: #00af00; text-decoration-color: #00af00\">0</span>]   │\n",
       "│ (<span style=\"color: #0087ff; text-decoration-color: #0087ff\">GlobalAveragePool…</span> │                   │            │                   │\n",
       "├─────────────────────┼───────────────────┼────────────┼───────────────────┤\n",
       "│ dense_9 (<span style=\"color: #0087ff; text-decoration-color: #0087ff\">Dense</span>)     │ (<span style=\"color: #00d7ff; text-decoration-color: #00d7ff\">None</span>, <span style=\"color: #00af00; text-decoration-color: #00af00\">4</span>)         │        <span style=\"color: #00af00; text-decoration-color: #00af00\">132</span> │ global_average_p… │\n",
       "├─────────────────────┼───────────────────┼────────────┼───────────────────┤\n",
       "│ dense_10 (<span style=\"color: #0087ff; text-decoration-color: #0087ff\">Dense</span>)    │ (<span style=\"color: #00d7ff; text-decoration-color: #00d7ff\">None</span>, <span style=\"color: #00af00; text-decoration-color: #00af00\">32</span>)        │        <span style=\"color: #00af00; text-decoration-color: #00af00\">160</span> │ dense_9[<span style=\"color: #00af00; text-decoration-color: #00af00\">0</span>][<span style=\"color: #00af00; text-decoration-color: #00af00\">0</span>]     │\n",
       "├─────────────────────┼───────────────────┼────────────┼───────────────────┤\n",
       "│ reshape_3 (<span style=\"color: #0087ff; text-decoration-color: #0087ff\">Reshape</span>) │ (<span style=\"color: #00d7ff; text-decoration-color: #00d7ff\">None</span>, <span style=\"color: #00af00; text-decoration-color: #00af00\">1</span>, <span style=\"color: #00af00; text-decoration-color: #00af00\">1</span>, <span style=\"color: #00af00; text-decoration-color: #00af00\">32</span>)  │          <span style=\"color: #00af00; text-decoration-color: #00af00\">0</span> │ dense_10[<span style=\"color: #00af00; text-decoration-color: #00af00\">0</span>][<span style=\"color: #00af00; text-decoration-color: #00af00\">0</span>]    │\n",
       "├─────────────────────┼───────────────────┼────────────┼───────────────────┤\n",
       "│ multiply_3          │ (<span style=\"color: #00d7ff; text-decoration-color: #00d7ff\">None</span>, <span style=\"color: #00af00; text-decoration-color: #00af00\">125</span>, <span style=\"color: #00af00; text-decoration-color: #00af00\">8</span>,    │          <span style=\"color: #00af00; text-decoration-color: #00af00\">0</span> │ dropout_6[<span style=\"color: #00af00; text-decoration-color: #00af00\">0</span>][<span style=\"color: #00af00; text-decoration-color: #00af00\">0</span>],  │\n",
       "│ (<span style=\"color: #0087ff; text-decoration-color: #0087ff\">Multiply</span>)          │ <span style=\"color: #00af00; text-decoration-color: #00af00\">32</span>)               │            │ reshape_3[<span style=\"color: #00af00; text-decoration-color: #00af00\">0</span>][<span style=\"color: #00af00; text-decoration-color: #00af00\">0</span>]   │\n",
       "├─────────────────────┼───────────────────┼────────────┼───────────────────┤\n",
       "│ time_distributed_3  │ (<span style=\"color: #00d7ff; text-decoration-color: #00d7ff\">None</span>, <span style=\"color: #00af00; text-decoration-color: #00af00\">125</span>, <span style=\"color: #00af00; text-decoration-color: #00af00\">256</span>)  │          <span style=\"color: #00af00; text-decoration-color: #00af00\">0</span> │ multiply_3[<span style=\"color: #00af00; text-decoration-color: #00af00\">0</span>][<span style=\"color: #00af00; text-decoration-color: #00af00\">0</span>]  │\n",
       "│ (<span style=\"color: #0087ff; text-decoration-color: #0087ff\">TimeDistributed</span>)   │                   │            │                   │\n",
       "├─────────────────────┼───────────────────┼────────────┼───────────────────┤\n",
       "│ lstm_3 (<span style=\"color: #0087ff; text-decoration-color: #0087ff\">LSTM</span>)       │ (<span style=\"color: #00d7ff; text-decoration-color: #00d7ff\">None</span>, <span style=\"color: #00af00; text-decoration-color: #00af00\">64</span>)        │     <span style=\"color: #00af00; text-decoration-color: #00af00\">82,176</span> │ time_distributed… │\n",
       "├─────────────────────┼───────────────────┼────────────┼───────────────────┤\n",
       "│ dropout_7 (<span style=\"color: #0087ff; text-decoration-color: #0087ff\">Dropout</span>) │ (<span style=\"color: #00d7ff; text-decoration-color: #00d7ff\">None</span>, <span style=\"color: #00af00; text-decoration-color: #00af00\">64</span>)        │          <span style=\"color: #00af00; text-decoration-color: #00af00\">0</span> │ lstm_3[<span style=\"color: #00af00; text-decoration-color: #00af00\">0</span>][<span style=\"color: #00af00; text-decoration-color: #00af00\">0</span>]      │\n",
       "├─────────────────────┼───────────────────┼────────────┼───────────────────┤\n",
       "│ dense_11 (<span style=\"color: #0087ff; text-decoration-color: #0087ff\">Dense</span>)    │ (<span style=\"color: #00d7ff; text-decoration-color: #00d7ff\">None</span>, <span style=\"color: #00af00; text-decoration-color: #00af00\">2</span>)         │        <span style=\"color: #00af00; text-decoration-color: #00af00\">130</span> │ dropout_7[<span style=\"color: #00af00; text-decoration-color: #00af00\">0</span>][<span style=\"color: #00af00; text-decoration-color: #00af00\">0</span>]   │\n",
       "└─────────────────────┴───────────────────┴────────────┴───────────────────┘\n",
       "</pre>\n"
      ],
      "text/plain": [
       "┏━━━━━━━━━━━━━━━━━━━━━┳━━━━━━━━━━━━━━━━━━━┳━━━━━━━━━━━━┳━━━━━━━━━━━━━━━━━━━┓\n",
       "┃\u001b[1m \u001b[0m\u001b[1mLayer (type)       \u001b[0m\u001b[1m \u001b[0m┃\u001b[1m \u001b[0m\u001b[1mOutput Shape     \u001b[0m\u001b[1m \u001b[0m┃\u001b[1m \u001b[0m\u001b[1m   Param #\u001b[0m\u001b[1m \u001b[0m┃\u001b[1m \u001b[0m\u001b[1mConnected to     \u001b[0m\u001b[1m \u001b[0m┃\n",
       "┡━━━━━━━━━━━━━━━━━━━━━╇━━━━━━━━━━━━━━━━━━━╇━━━━━━━━━━━━╇━━━━━━━━━━━━━━━━━━━┩\n",
       "│ input_layer_3       │ (\u001b[38;5;45mNone\u001b[0m, \u001b[38;5;34m256\u001b[0m, \u001b[38;5;34m22\u001b[0m,   │          \u001b[38;5;34m0\u001b[0m │ -                 │\n",
       "│ (\u001b[38;5;33mInputLayer\u001b[0m)        │ \u001b[38;5;34m1\u001b[0m)                │            │                   │\n",
       "├─────────────────────┼───────────────────┼────────────┼───────────────────┤\n",
       "│ conv2d_6 (\u001b[38;5;33mConv2D\u001b[0m)   │ (\u001b[38;5;45mNone\u001b[0m, \u001b[38;5;34m252\u001b[0m, \u001b[38;5;34m18\u001b[0m,   │        \u001b[38;5;34m832\u001b[0m │ input_layer_3[\u001b[38;5;34m0\u001b[0m]… │\n",
       "│                     │ \u001b[38;5;34m32\u001b[0m)               │            │                   │\n",
       "├─────────────────────┼───────────────────┼────────────┼───────────────────┤\n",
       "│ conv2d_7 (\u001b[38;5;33mConv2D\u001b[0m)   │ (\u001b[38;5;45mNone\u001b[0m, \u001b[38;5;34m250\u001b[0m, \u001b[38;5;34m16\u001b[0m,   │      \u001b[38;5;34m9,248\u001b[0m │ conv2d_6[\u001b[38;5;34m0\u001b[0m][\u001b[38;5;34m0\u001b[0m]    │\n",
       "│                     │ \u001b[38;5;34m32\u001b[0m)               │            │                   │\n",
       "├─────────────────────┼───────────────────┼────────────┼───────────────────┤\n",
       "│ max_pooling2d_3     │ (\u001b[38;5;45mNone\u001b[0m, \u001b[38;5;34m125\u001b[0m, \u001b[38;5;34m8\u001b[0m,    │          \u001b[38;5;34m0\u001b[0m │ conv2d_7[\u001b[38;5;34m0\u001b[0m][\u001b[38;5;34m0\u001b[0m]    │\n",
       "│ (\u001b[38;5;33mMaxPooling2D\u001b[0m)      │ \u001b[38;5;34m32\u001b[0m)               │            │                   │\n",
       "├─────────────────────┼───────────────────┼────────────┼───────────────────┤\n",
       "│ dropout_6 (\u001b[38;5;33mDropout\u001b[0m) │ (\u001b[38;5;45mNone\u001b[0m, \u001b[38;5;34m125\u001b[0m, \u001b[38;5;34m8\u001b[0m,    │          \u001b[38;5;34m0\u001b[0m │ max_pooling2d_3[\u001b[38;5;34m…\u001b[0m │\n",
       "│                     │ \u001b[38;5;34m32\u001b[0m)               │            │                   │\n",
       "├─────────────────────┼───────────────────┼────────────┼───────────────────┤\n",
       "│ global_average_poo… │ (\u001b[38;5;45mNone\u001b[0m, \u001b[38;5;34m32\u001b[0m)        │          \u001b[38;5;34m0\u001b[0m │ dropout_6[\u001b[38;5;34m0\u001b[0m][\u001b[38;5;34m0\u001b[0m]   │\n",
       "│ (\u001b[38;5;33mGlobalAveragePool…\u001b[0m │                   │            │                   │\n",
       "├─────────────────────┼───────────────────┼────────────┼───────────────────┤\n",
       "│ dense_9 (\u001b[38;5;33mDense\u001b[0m)     │ (\u001b[38;5;45mNone\u001b[0m, \u001b[38;5;34m4\u001b[0m)         │        \u001b[38;5;34m132\u001b[0m │ global_average_p… │\n",
       "├─────────────────────┼───────────────────┼────────────┼───────────────────┤\n",
       "│ dense_10 (\u001b[38;5;33mDense\u001b[0m)    │ (\u001b[38;5;45mNone\u001b[0m, \u001b[38;5;34m32\u001b[0m)        │        \u001b[38;5;34m160\u001b[0m │ dense_9[\u001b[38;5;34m0\u001b[0m][\u001b[38;5;34m0\u001b[0m]     │\n",
       "├─────────────────────┼───────────────────┼────────────┼───────────────────┤\n",
       "│ reshape_3 (\u001b[38;5;33mReshape\u001b[0m) │ (\u001b[38;5;45mNone\u001b[0m, \u001b[38;5;34m1\u001b[0m, \u001b[38;5;34m1\u001b[0m, \u001b[38;5;34m32\u001b[0m)  │          \u001b[38;5;34m0\u001b[0m │ dense_10[\u001b[38;5;34m0\u001b[0m][\u001b[38;5;34m0\u001b[0m]    │\n",
       "├─────────────────────┼───────────────────┼────────────┼───────────────────┤\n",
       "│ multiply_3          │ (\u001b[38;5;45mNone\u001b[0m, \u001b[38;5;34m125\u001b[0m, \u001b[38;5;34m8\u001b[0m,    │          \u001b[38;5;34m0\u001b[0m │ dropout_6[\u001b[38;5;34m0\u001b[0m][\u001b[38;5;34m0\u001b[0m],  │\n",
       "│ (\u001b[38;5;33mMultiply\u001b[0m)          │ \u001b[38;5;34m32\u001b[0m)               │            │ reshape_3[\u001b[38;5;34m0\u001b[0m][\u001b[38;5;34m0\u001b[0m]   │\n",
       "├─────────────────────┼───────────────────┼────────────┼───────────────────┤\n",
       "│ time_distributed_3  │ (\u001b[38;5;45mNone\u001b[0m, \u001b[38;5;34m125\u001b[0m, \u001b[38;5;34m256\u001b[0m)  │          \u001b[38;5;34m0\u001b[0m │ multiply_3[\u001b[38;5;34m0\u001b[0m][\u001b[38;5;34m0\u001b[0m]  │\n",
       "│ (\u001b[38;5;33mTimeDistributed\u001b[0m)   │                   │            │                   │\n",
       "├─────────────────────┼───────────────────┼────────────┼───────────────────┤\n",
       "│ lstm_3 (\u001b[38;5;33mLSTM\u001b[0m)       │ (\u001b[38;5;45mNone\u001b[0m, \u001b[38;5;34m64\u001b[0m)        │     \u001b[38;5;34m82,176\u001b[0m │ time_distributed… │\n",
       "├─────────────────────┼───────────────────┼────────────┼───────────────────┤\n",
       "│ dropout_7 (\u001b[38;5;33mDropout\u001b[0m) │ (\u001b[38;5;45mNone\u001b[0m, \u001b[38;5;34m64\u001b[0m)        │          \u001b[38;5;34m0\u001b[0m │ lstm_3[\u001b[38;5;34m0\u001b[0m][\u001b[38;5;34m0\u001b[0m]      │\n",
       "├─────────────────────┼───────────────────┼────────────┼───────────────────┤\n",
       "│ dense_11 (\u001b[38;5;33mDense\u001b[0m)    │ (\u001b[38;5;45mNone\u001b[0m, \u001b[38;5;34m2\u001b[0m)         │        \u001b[38;5;34m130\u001b[0m │ dropout_7[\u001b[38;5;34m0\u001b[0m][\u001b[38;5;34m0\u001b[0m]   │\n",
       "└─────────────────────┴───────────────────┴────────────┴───────────────────┘\n"
      ]
     },
     "metadata": {},
     "output_type": "display_data"
    },
    {
     "data": {
      "text/html": [
       "<pre style=\"white-space:pre;overflow-x:auto;line-height:normal;font-family:Menlo,'DejaVu Sans Mono',consolas,'Courier New',monospace\"><span style=\"font-weight: bold\"> Total params: </span><span style=\"color: #00af00; text-decoration-color: #00af00\">92,678</span> (362.02 KB)\n",
       "</pre>\n"
      ],
      "text/plain": [
       "\u001b[1m Total params: \u001b[0m\u001b[38;5;34m92,678\u001b[0m (362.02 KB)\n"
      ]
     },
     "metadata": {},
     "output_type": "display_data"
    },
    {
     "data": {
      "text/html": [
       "<pre style=\"white-space:pre;overflow-x:auto;line-height:normal;font-family:Menlo,'DejaVu Sans Mono',consolas,'Courier New',monospace\"><span style=\"font-weight: bold\"> Trainable params: </span><span style=\"color: #00af00; text-decoration-color: #00af00\">92,678</span> (362.02 KB)\n",
       "</pre>\n"
      ],
      "text/plain": [
       "\u001b[1m Trainable params: \u001b[0m\u001b[38;5;34m92,678\u001b[0m (362.02 KB)\n"
      ]
     },
     "metadata": {},
     "output_type": "display_data"
    },
    {
     "data": {
      "text/html": [
       "<pre style=\"white-space:pre;overflow-x:auto;line-height:normal;font-family:Menlo,'DejaVu Sans Mono',consolas,'Courier New',monospace\"><span style=\"font-weight: bold\"> Non-trainable params: </span><span style=\"color: #00af00; text-decoration-color: #00af00\">0</span> (0.00 B)\n",
       "</pre>\n"
      ],
      "text/plain": [
       "\u001b[1m Non-trainable params: \u001b[0m\u001b[38;5;34m0\u001b[0m (0.00 B)\n"
      ]
     },
     "metadata": {},
     "output_type": "display_data"
    },
    {
     "name": "stdout",
     "output_type": "stream",
     "text": [
      "Epoch 1/20\n"
     ]
    },
    {
     "name": "stderr",
     "output_type": "stream",
     "text": [
      "2024-10-21 00:06:22.457875: E tensorflow/core/grappler/optimizers/meta_optimizer.cc:961] layout failed: INVALID_ARGUMENT: Size of values 0 does not match size of permutation 4 @ fanin shape inStatefulPartitionedCall/functional_9_1/dropout_6_1/stateless_dropout/SelectV2-2-TransposeNHWCToNCHW-LayoutOptimizer\n"
     ]
    },
    {
     "name": "stdout",
     "output_type": "stream",
     "text": [
      "\u001b[1m296/296\u001b[0m \u001b[32m━━━━━━━━━━━━━━━━━━━━\u001b[0m\u001b[37m\u001b[0m \u001b[1m17s\u001b[0m 40ms/step - accuracy: 0.5567 - loss: 0.6221 - val_accuracy: 0.5881 - val_loss: 0.5802\n",
      "Epoch 2/20\n",
      "\u001b[1m296/296\u001b[0m \u001b[32m━━━━━━━━━━━━━━━━━━━━\u001b[0m\u001b[37m\u001b[0m \u001b[1m11s\u001b[0m 36ms/step - accuracy: 0.6278 - loss: 0.5749 - val_accuracy: 0.7438 - val_loss: 0.4886\n",
      "Epoch 3/20\n",
      "\u001b[1m296/296\u001b[0m \u001b[32m━━━━━━━━━━━━━━━━━━━━\u001b[0m\u001b[37m\u001b[0m \u001b[1m11s\u001b[0m 36ms/step - accuracy: 0.7607 - loss: 0.4595 - val_accuracy: 0.8536 - val_loss: 0.3065\n",
      "Epoch 4/20\n",
      "\u001b[1m296/296\u001b[0m \u001b[32m━━━━━━━━━━━━━━━━━━━━\u001b[0m\u001b[37m\u001b[0m \u001b[1m11s\u001b[0m 36ms/step - accuracy: 0.8017 - loss: 0.3822 - val_accuracy: 0.6064 - val_loss: 0.5510\n",
      "Epoch 5/20\n",
      "\u001b[1m296/296\u001b[0m \u001b[32m━━━━━━━━━━━━━━━━━━━━\u001b[0m\u001b[37m\u001b[0m \u001b[1m11s\u001b[0m 36ms/step - accuracy: 0.6895 - loss: 0.5288 - val_accuracy: 0.8410 - val_loss: 0.3744\n",
      "Epoch 6/20\n",
      "\u001b[1m296/296\u001b[0m \u001b[32m━━━━━━━━━━━━━━━━━━━━\u001b[0m\u001b[37m\u001b[0m \u001b[1m11s\u001b[0m 36ms/step - accuracy: 0.8179 - loss: 0.3668 - val_accuracy: 0.8136 - val_loss: 0.4079\n",
      "Epoch 7/20\n",
      "\u001b[1m296/296\u001b[0m \u001b[32m━━━━━━━━━━━━━━━━━━━━\u001b[0m\u001b[37m\u001b[0m \u001b[1m11s\u001b[0m 36ms/step - accuracy: 0.8089 - loss: 0.3826 - val_accuracy: 0.8652 - val_loss: 0.3412\n",
      "Epoch 8/20\n",
      "\u001b[1m296/296\u001b[0m \u001b[32m━━━━━━━━━━━━━━━━━━━━\u001b[0m\u001b[37m\u001b[0m \u001b[1m11s\u001b[0m 36ms/step - accuracy: 0.8373 - loss: 0.3406 - val_accuracy: 0.9012 - val_loss: 0.2328\n",
      "Epoch 9/20\n",
      "\u001b[1m296/296\u001b[0m \u001b[32m━━━━━━━━━━━━━━━━━━━━\u001b[0m\u001b[37m\u001b[0m \u001b[1m11s\u001b[0m 36ms/step - accuracy: 0.8869 - loss: 0.2625 - val_accuracy: 0.9021 - val_loss: 0.2373\n",
      "Epoch 10/20\n",
      "\u001b[1m296/296\u001b[0m \u001b[32m━━━━━━━━━━━━━━━━━━━━\u001b[0m\u001b[37m\u001b[0m \u001b[1m11s\u001b[0m 36ms/step - accuracy: 0.8849 - loss: 0.2606 - val_accuracy: 0.9029 - val_loss: 0.2322\n",
      "Epoch 11/20\n",
      "\u001b[1m296/296\u001b[0m \u001b[32m━━━━━━━━━━━━━━━━━━━━\u001b[0m\u001b[37m\u001b[0m \u001b[1m11s\u001b[0m 36ms/step - accuracy: 0.8963 - loss: 0.2376 - val_accuracy: 0.9231 - val_loss: 0.1861\n",
      "Epoch 12/20\n",
      "\u001b[1m296/296\u001b[0m \u001b[32m━━━━━━━━━━━━━━━━━━━━\u001b[0m\u001b[37m\u001b[0m \u001b[1m11s\u001b[0m 36ms/step - accuracy: 0.9060 - loss: 0.2217 - val_accuracy: 0.9193 - val_loss: 0.1960\n",
      "Epoch 13/20\n",
      "\u001b[1m296/296\u001b[0m \u001b[32m━━━━━━━━━━━━━━━━━━━━\u001b[0m\u001b[37m\u001b[0m \u001b[1m11s\u001b[0m 36ms/step - accuracy: 0.9129 - loss: 0.2081 - val_accuracy: 0.9257 - val_loss: 0.1787\n",
      "Epoch 14/20\n",
      "\u001b[1m296/296\u001b[0m \u001b[32m━━━━━━━━━━━━━━━━━━━━\u001b[0m\u001b[37m\u001b[0m \u001b[1m11s\u001b[0m 36ms/step - accuracy: 0.9153 - loss: 0.2026 - val_accuracy: 0.9064 - val_loss: 0.2339\n",
      "Epoch 15/20\n",
      "\u001b[1m296/296\u001b[0m \u001b[32m━━━━━━━━━━━━━━━━━━━━\u001b[0m\u001b[37m\u001b[0m \u001b[1m11s\u001b[0m 36ms/step - accuracy: 0.9021 - loss: 0.2263 - val_accuracy: 0.9286 - val_loss: 0.1641\n",
      "Epoch 16/20\n",
      "\u001b[1m296/296\u001b[0m \u001b[32m━━━━━━━━━━━━━━━━━━━━\u001b[0m\u001b[37m\u001b[0m \u001b[1m11s\u001b[0m 36ms/step - accuracy: 0.9182 - loss: 0.1981 - val_accuracy: 0.9357 - val_loss: 0.1582\n",
      "Epoch 17/20\n",
      "\u001b[1m296/296\u001b[0m \u001b[32m━━━━━━━━━━━━━━━━━━━━\u001b[0m\u001b[37m\u001b[0m \u001b[1m11s\u001b[0m 36ms/step - accuracy: 0.9186 - loss: 0.1922 - val_accuracy: 0.9369 - val_loss: 0.1558\n",
      "Epoch 18/20\n",
      "\u001b[1m296/296\u001b[0m \u001b[32m━━━━━━━━━━━━━━━━━━━━\u001b[0m\u001b[37m\u001b[0m \u001b[1m11s\u001b[0m 36ms/step - accuracy: 0.9258 - loss: 0.1794 - val_accuracy: 0.9321 - val_loss: 0.1639\n",
      "Epoch 19/20\n",
      "\u001b[1m296/296\u001b[0m \u001b[32m━━━━━━━━━━━━━━━━━━━━\u001b[0m\u001b[37m\u001b[0m \u001b[1m11s\u001b[0m 36ms/step - accuracy: 0.9262 - loss: 0.1791 - val_accuracy: 0.9419 - val_loss: 0.1424\n",
      "Epoch 20/20\n",
      "\u001b[1m296/296\u001b[0m \u001b[32m━━━━━━━━━━━━━━━━━━━━\u001b[0m\u001b[37m\u001b[0m \u001b[1m11s\u001b[0m 36ms/step - accuracy: 0.9206 - loss: 0.1884 - val_accuracy: 0.9510 - val_loss: 0.1284\n"
     ]
    },
    {
     "data": {
      "text/plain": [
       "<keras.src.callbacks.history.History at 0x7c6fec31f4f0>"
      ]
     },
     "execution_count": 26,
     "metadata": {},
     "output_type": "execute_result"
    }
   ],
   "source": [
    "# Compile the model\n",
    "model.compile(loss='binary_crossentropy',\n",
    "              optimizer='adam',\n",
    "              metrics=['accuracy'])\n",
    "\n",
    "# Print model summary\n",
    "model.summary()\n",
    "\n",
    "# Train the model\n",
    "batch_size = 128\n",
    "epochs = 20\n",
    "model.fit(x_train, y_train, batch_size=batch_size, epochs=epochs, validation_split=0.1, verbose=1)\n",
    "\n"
   ]
  },
  {
   "cell_type": "code",
   "execution_count": 27,
   "metadata": {
    "execution": {
     "iopub.execute_input": "2024-10-21T00:09:56.190714Z",
     "iopub.status.busy": "2024-10-21T00:09:56.190312Z",
     "iopub.status.idle": "2024-10-21T00:09:56.477483Z",
     "shell.execute_reply": "2024-10-21T00:09:56.476548Z",
     "shell.execute_reply.started": "2024-10-21T00:09:56.190669Z"
    },
    "trusted": true
   },
   "outputs": [
    {
     "name": "stdout",
     "output_type": "stream",
     "text": [
      "Test loss: 0.13678957521915436\n",
      "Test accuracy: 0.9458333253860474\n"
     ]
    }
   ],
   "source": [
    "# Evaluate the model on test data\n",
    "score = model.evaluate(x_test, y_test, verbose=0)\n",
    "print('Test loss:', score[0])\n",
    "print('Test accuracy:', score[1])"
   ]
  },
  {
   "cell_type": "markdown",
   "metadata": {},
   "source": [
    "# Using dice as loss function"
   ]
  },
  {
   "cell_type": "code",
   "execution_count": 28,
   "metadata": {
    "execution": {
     "iopub.execute_input": "2024-10-21T00:09:56.478991Z",
     "iopub.status.busy": "2024-10-21T00:09:56.478687Z",
     "iopub.status.idle": "2024-10-21T00:09:56.557761Z",
     "shell.execute_reply": "2024-10-21T00:09:56.557028Z",
     "shell.execute_reply.started": "2024-10-21T00:09:56.478959Z"
    },
    "trusted": true
   },
   "outputs": [],
   "source": [
    "from tensorflow.keras.layers import LSTM, TimeDistributed\n",
    "\n",
    "# Attention mechanism block (Self-attention)\n",
    "def attention_block(inputs):\n",
    "    channels = inputs.shape[-1]\n",
    "    attention = GlobalAveragePooling2D()(inputs)\n",
    "    attention = Dense(channels // 8, activation='relu')(attention)\n",
    "    attention = Dense(channels, activation='sigmoid')(attention)\n",
    "    attention = Reshape((1, 1, channels))(attention)\n",
    "    attention = Multiply()([inputs, attention])\n",
    "    return attention\n",
    "\n",
    "# CNN-LSTM model with attention mechanism\n",
    "input_shape = (img_rows, img_cols, 1)\n",
    "inputs = Input(shape=input_shape)\n",
    "\n",
    "# CNN layers for spatial feature extraction\n",
    "x = Conv2D(32, kernel_size=(5, 5), activation='relu')(inputs)\n",
    "x = Conv2D(32, kernel_size=(3, 3), activation='relu')(x)\n",
    "x = MaxPooling2D(pool_size=(2, 2))(x)\n",
    "x = Dropout(0.25)(x)\n",
    "\n",
    "# Apply attention mechanism after convolutional layers\n",
    "x = attention_block(x)\n",
    "\n",
    "# Reshaping for LSTM input\n",
    "# Reshape the data to (batch_size, time_steps, features) to fit LSTM requirements\n",
    "x = TimeDistributed(Flatten())(x)  # Flatten across time\n",
    "\n",
    "# LSTM layers for temporal feature extraction\n",
    "x = LSTM(64, return_sequences=False)(x)  # Add LSTM layer (no return sequences)\n",
    "x = Dropout(0.5)(x)\n",
    "\n",
    "# Output layer\n",
    "outputs = Dense(2, activation='sigmoid')(x)\n",
    "\n",
    "# Build the model\n",
    "model = Model(inputs, outputs)\n",
    "\n"
   ]
  },
  {
   "cell_type": "code",
   "execution_count": 29,
   "metadata": {
    "execution": {
     "iopub.execute_input": "2024-10-21T00:09:56.561213Z",
     "iopub.status.busy": "2024-10-21T00:09:56.560454Z",
     "iopub.status.idle": "2024-10-21T00:09:56.575066Z",
     "shell.execute_reply": "2024-10-21T00:09:56.574169Z",
     "shell.execute_reply.started": "2024-10-21T00:09:56.561177Z"
    },
    "trusted": true
   },
   "outputs": [],
   "source": [
    "import tensorflow.keras.backend as K\n",
    "def dice_loss(y_true, y_pred):\n",
    "    intersection = K.sum(y_true * y_pred)\n",
    "    return 1 - (2. * intersection + 1) / (K.sum(y_true) + K.sum(y_pred) + 1)\n",
    "# Compile the model\n",
    "model2 = Model(inputs, outputs)\n",
    "model2.compile(loss=dice_loss, optimizer='adam', metrics=['accuracy'])\n"
   ]
  },
  {
   "cell_type": "code",
   "execution_count": 30,
   "metadata": {
    "execution": {
     "iopub.execute_input": "2024-10-21T00:09:56.576383Z",
     "iopub.status.busy": "2024-10-21T00:09:56.576111Z",
     "iopub.status.idle": "2024-10-21T00:13:49.520235Z",
     "shell.execute_reply": "2024-10-21T00:13:49.518777Z",
     "shell.execute_reply.started": "2024-10-21T00:09:56.576353Z"
    },
    "trusted": true
   },
   "outputs": [
    {
     "name": "stdout",
     "output_type": "stream",
     "text": [
      "Epoch 1/20\n"
     ]
    },
    {
     "name": "stderr",
     "output_type": "stream",
     "text": [
      "2024-10-21 00:10:02.680374: E tensorflow/core/grappler/optimizers/meta_optimizer.cc:961] layout failed: INVALID_ARGUMENT: Size of values 0 does not match size of permutation 4 @ fanin shape inStatefulPartitionedCall/functional_13_1/dropout_8_1/stateless_dropout/SelectV2-2-TransposeNHWCToNCHW-LayoutOptimizer\n"
     ]
    },
    {
     "name": "stdout",
     "output_type": "stream",
     "text": [
      "\u001b[1m296/296\u001b[0m \u001b[32m━━━━━━━━━━━━━━━━━━━━\u001b[0m\u001b[37m\u001b[0m \u001b[1m16s\u001b[0m 40ms/step - accuracy: 0.5223 - loss: 0.3579 - val_accuracy: 0.4848 - val_loss: 0.3325\n",
      "Epoch 2/20\n",
      "\u001b[1m296/296\u001b[0m \u001b[32m━━━━━━━━━━━━━━━━━━━━\u001b[0m\u001b[37m\u001b[0m \u001b[1m11s\u001b[0m 36ms/step - accuracy: 0.5145 - loss: 0.3308 - val_accuracy: 0.4848 - val_loss: 0.3160\n",
      "Epoch 3/20\n",
      "\u001b[1m296/296\u001b[0m \u001b[32m━━━━━━━━━━━━━━━━━━━━\u001b[0m\u001b[37m\u001b[0m \u001b[1m11s\u001b[0m 36ms/step - accuracy: 0.5112 - loss: 0.3168 - val_accuracy: 0.4848 - val_loss: 0.3154\n",
      "Epoch 4/20\n",
      "\u001b[1m296/296\u001b[0m \u001b[32m━━━━━━━━━━━━━━━━━━━━\u001b[0m\u001b[37m\u001b[0m \u001b[1m11s\u001b[0m 36ms/step - accuracy: 0.5145 - loss: 0.3164 - val_accuracy: 0.4848 - val_loss: 0.3155\n",
      "Epoch 5/20\n",
      "\u001b[1m296/296\u001b[0m \u001b[32m━━━━━━━━━━━━━━━━━━━━\u001b[0m\u001b[37m\u001b[0m \u001b[1m11s\u001b[0m 36ms/step - accuracy: 0.5110 - loss: 0.3160 - val_accuracy: 0.4848 - val_loss: 0.3155\n",
      "Epoch 6/20\n",
      "\u001b[1m296/296\u001b[0m \u001b[32m━━━━━━━━━━━━━━━━━━━━\u001b[0m\u001b[37m\u001b[0m \u001b[1m11s\u001b[0m 36ms/step - accuracy: 0.5186 - loss: 0.3154 - val_accuracy: 0.4848 - val_loss: 0.3153\n",
      "Epoch 7/20\n",
      "\u001b[1m296/296\u001b[0m \u001b[32m━━━━━━━━━━━━━━━━━━━━\u001b[0m\u001b[37m\u001b[0m \u001b[1m11s\u001b[0m 36ms/step - accuracy: 0.5299 - loss: 0.3153 - val_accuracy: 0.4848 - val_loss: 0.3156\n",
      "Epoch 8/20\n",
      "\u001b[1m296/296\u001b[0m \u001b[32m━━━━━━━━━━━━━━━━━━━━\u001b[0m\u001b[37m\u001b[0m \u001b[1m20s\u001b[0m 36ms/step - accuracy: 0.5219 - loss: 0.3153 - val_accuracy: 0.4848 - val_loss: 0.3153\n",
      "Epoch 9/20\n",
      "\u001b[1m296/296\u001b[0m \u001b[32m━━━━━━━━━━━━━━━━━━━━\u001b[0m\u001b[37m\u001b[0m \u001b[1m11s\u001b[0m 36ms/step - accuracy: 0.5191 - loss: 0.3147 - val_accuracy: 0.4848 - val_loss: 0.3153\n",
      "Epoch 10/20\n",
      "\u001b[1m296/296\u001b[0m \u001b[32m━━━━━━━━━━━━━━━━━━━━\u001b[0m\u001b[37m\u001b[0m \u001b[1m11s\u001b[0m 36ms/step - accuracy: 0.5206 - loss: 0.3150 - val_accuracy: 0.4848 - val_loss: 0.3156\n",
      "Epoch 11/20\n",
      "\u001b[1m296/296\u001b[0m \u001b[32m━━━━━━━━━━━━━━━━━━━━\u001b[0m\u001b[37m\u001b[0m \u001b[1m11s\u001b[0m 36ms/step - accuracy: 0.5212 - loss: 0.3152 - val_accuracy: 0.4848 - val_loss: 0.3153\n",
      "Epoch 12/20\n",
      "\u001b[1m296/296\u001b[0m \u001b[32m━━━━━━━━━━━━━━━━━━━━\u001b[0m\u001b[37m\u001b[0m \u001b[1m11s\u001b[0m 36ms/step - accuracy: 0.5193 - loss: 0.3147 - val_accuracy: 0.4848 - val_loss: 0.3151\n",
      "Epoch 13/20\n",
      "\u001b[1m296/296\u001b[0m \u001b[32m━━━━━━━━━━━━━━━━━━━━\u001b[0m\u001b[37m\u001b[0m \u001b[1m11s\u001b[0m 36ms/step - accuracy: 0.5247 - loss: 0.3151 - val_accuracy: 0.4848 - val_loss: 0.3152\n",
      "Epoch 14/20\n",
      "\u001b[1m296/296\u001b[0m \u001b[32m━━━━━━━━━━━━━━━━━━━━\u001b[0m\u001b[37m\u001b[0m \u001b[1m11s\u001b[0m 37ms/step - accuracy: 0.5212 - loss: 0.3153 - val_accuracy: 0.4848 - val_loss: 0.3151\n",
      "Epoch 15/20\n",
      "\u001b[1m296/296\u001b[0m \u001b[32m━━━━━━━━━━━━━━━━━━━━\u001b[0m\u001b[37m\u001b[0m \u001b[1m11s\u001b[0m 36ms/step - accuracy: 0.5199 - loss: 0.3151 - val_accuracy: 0.4848 - val_loss: 0.3151\n",
      "Epoch 16/20\n",
      "\u001b[1m296/296\u001b[0m \u001b[32m━━━━━━━━━━━━━━━━━━━━\u001b[0m\u001b[37m\u001b[0m \u001b[1m11s\u001b[0m 36ms/step - accuracy: 0.5248 - loss: 0.3149 - val_accuracy: 0.4848 - val_loss: 0.3151\n",
      "Epoch 17/20\n",
      "\u001b[1m296/296\u001b[0m \u001b[32m━━━━━━━━━━━━━━━━━━━━\u001b[0m\u001b[37m\u001b[0m \u001b[1m11s\u001b[0m 36ms/step - accuracy: 0.5280 - loss: 0.3152 - val_accuracy: 0.4848 - val_loss: 0.3150\n",
      "Epoch 18/20\n",
      "\u001b[1m296/296\u001b[0m \u001b[32m━━━━━━━━━━━━━━━━━━━━\u001b[0m\u001b[37m\u001b[0m \u001b[1m11s\u001b[0m 36ms/step - accuracy: 0.5253 - loss: 0.3155 - val_accuracy: 0.4848 - val_loss: 0.3149\n",
      "Epoch 19/20\n",
      "\u001b[1m296/296\u001b[0m \u001b[32m━━━━━━━━━━━━━━━━━━━━\u001b[0m\u001b[37m\u001b[0m \u001b[1m11s\u001b[0m 36ms/step - accuracy: 0.5195 - loss: 0.3146 - val_accuracy: 0.4848 - val_loss: 0.3148\n",
      "Epoch 20/20\n",
      "\u001b[1m296/296\u001b[0m \u001b[32m━━━━━━━━━━━━━━━━━━━━\u001b[0m\u001b[37m\u001b[0m \u001b[1m11s\u001b[0m 36ms/step - accuracy: 0.5219 - loss: 0.3145 - val_accuracy: 0.4848 - val_loss: 0.3147\n"
     ]
    },
    {
     "data": {
      "text/plain": [
       "<keras.src.callbacks.history.History at 0x7c6feaf26a70>"
      ]
     },
     "execution_count": 30,
     "metadata": {},
     "output_type": "execute_result"
    }
   ],
   "source": [
    "# Train the model\n",
    "batch_size = 128\n",
    "epochs = 20\n",
    "model2.fit(x_train, y_train, batch_size=batch_size, epochs=epochs, validation_split=0.1, verbose=1)\n"
   ]
  },
  {
   "cell_type": "code",
   "execution_count": 31,
   "metadata": {
    "execution": {
     "iopub.execute_input": "2024-10-21T00:13:49.522127Z",
     "iopub.status.busy": "2024-10-21T00:13:49.521676Z",
     "iopub.status.idle": "2024-10-21T00:13:49.829053Z",
     "shell.execute_reply": "2024-10-21T00:13:49.827918Z",
     "shell.execute_reply.started": "2024-10-21T00:13:49.522078Z"
    },
    "trusted": true
   },
   "outputs": [
    {
     "name": "stdout",
     "output_type": "stream",
     "text": [
      "Test loss: 0.31329789757728577\n",
      "Test accuracy: 0.512499988079071\n"
     ]
    }
   ],
   "source": [
    "# Evaluate the model on test data\n",
    "score2 = model2.evaluate(x_test, y_test, verbose=0)\n",
    "print('Test loss:', score2[0])\n",
    "print('Test accuracy:', score2[1])"
   ]
  },
  {
   "cell_type": "markdown",
   "metadata": {},
   "source": [
    "# Using MSE"
   ]
  },
  {
   "cell_type": "code",
   "execution_count": 32,
   "metadata": {
    "execution": {
     "iopub.execute_input": "2024-10-21T00:13:49.830924Z",
     "iopub.status.busy": "2024-10-21T00:13:49.830531Z",
     "iopub.status.idle": "2024-10-21T00:13:49.917363Z",
     "shell.execute_reply": "2024-10-21T00:13:49.916552Z",
     "shell.execute_reply.started": "2024-10-21T00:13:49.830885Z"
    },
    "trusted": true
   },
   "outputs": [],
   "source": [
    "from tensorflow.keras.layers import LSTM, TimeDistributed\n",
    "\n",
    "# Attention mechanism block (Self-attention)\n",
    "def attention_block(inputs):\n",
    "    channels = inputs.shape[-1]\n",
    "    attention = GlobalAveragePooling2D()(inputs)\n",
    "    attention = Dense(channels // 8, activation='relu')(attention)\n",
    "    attention = Dense(channels, activation='sigmoid')(attention)\n",
    "    attention = Reshape((1, 1, channels))(attention)\n",
    "    attention = Multiply()([inputs, attention])\n",
    "    return attention\n",
    "\n",
    "# CNN-LSTM model with attention mechanism\n",
    "input_shape = (img_rows, img_cols, 1)\n",
    "inputs = Input(shape=input_shape)\n",
    "\n",
    "# CNN layers for spatial feature extraction\n",
    "x = Conv2D(32, kernel_size=(5, 5), activation='relu')(inputs)\n",
    "x = Conv2D(32, kernel_size=(3, 3), activation='relu')(x)\n",
    "x = MaxPooling2D(pool_size=(2, 2))(x)\n",
    "x = Dropout(0.25)(x)\n",
    "\n",
    "# Apply attention mechanism after convolutional layers\n",
    "x = attention_block(x)\n",
    "\n",
    "# Reshaping for LSTM input\n",
    "# Reshape the data to (batch_size, time_steps, features) to fit LSTM requirements\n",
    "x = TimeDistributed(Flatten())(x)  # Flatten across time\n",
    "\n",
    "# LSTM layers for temporal feature extraction\n",
    "x = LSTM(64, return_sequences=False)(x)  # Add LSTM layer (no return sequences)\n",
    "x = Dropout(0.5)(x)\n",
    "\n",
    "# Output layer\n",
    "outputs = Dense(2, activation='sigmoid')(x)\n",
    "\n",
    "# Build the model\n",
    "model3 = Model(inputs, outputs)\n",
    "\n"
   ]
  },
  {
   "cell_type": "code",
   "execution_count": 33,
   "metadata": {
    "execution": {
     "iopub.execute_input": "2024-10-21T00:13:49.918690Z",
     "iopub.status.busy": "2024-10-21T00:13:49.918374Z",
     "iopub.status.idle": "2024-10-21T00:13:49.927220Z",
     "shell.execute_reply": "2024-10-21T00:13:49.926429Z",
     "shell.execute_reply.started": "2024-10-21T00:13:49.918651Z"
    },
    "trusted": true
   },
   "outputs": [],
   "source": [
    "model3.compile(loss='mean_squared_error', optimizer='adam', metrics=['accuracy'])\n"
   ]
  },
  {
   "cell_type": "code",
   "execution_count": 34,
   "metadata": {
    "execution": {
     "iopub.execute_input": "2024-10-21T00:13:49.928796Z",
     "iopub.status.busy": "2024-10-21T00:13:49.928506Z",
     "iopub.status.idle": "2024-10-21T00:17:30.658589Z",
     "shell.execute_reply": "2024-10-21T00:17:30.657609Z",
     "shell.execute_reply.started": "2024-10-21T00:13:49.928765Z"
    },
    "trusted": true
   },
   "outputs": [
    {
     "name": "stdout",
     "output_type": "stream",
     "text": [
      "Epoch 1/20\n"
     ]
    },
    {
     "name": "stderr",
     "output_type": "stream",
     "text": [
      "2024-10-21 00:13:56.059794: E tensorflow/core/grappler/optimizers/meta_optimizer.cc:961] layout failed: INVALID_ARGUMENT: Size of values 0 does not match size of permutation 4 @ fanin shape inStatefulPartitionedCall/functional_15_1/dropout_10_1/stateless_dropout/SelectV2-2-TransposeNHWCToNCHW-LayoutOptimizer\n"
     ]
    },
    {
     "name": "stdout",
     "output_type": "stream",
     "text": [
      "\u001b[1m296/296\u001b[0m \u001b[32m━━━━━━━━━━━━━━━━━━━━\u001b[0m\u001b[37m\u001b[0m \u001b[1m16s\u001b[0m 39ms/step - accuracy: 0.5364 - loss: 0.2432 - val_accuracy: 0.5752 - val_loss: 0.2088\n",
      "Epoch 2/20\n",
      "\u001b[1m296/296\u001b[0m \u001b[32m━━━━━━━━━━━━━━━━━━━━\u001b[0m\u001b[37m\u001b[0m \u001b[1m11s\u001b[0m 36ms/step - accuracy: 0.6043 - loss: 0.2094 - val_accuracy: 0.6764 - val_loss: 0.2045\n",
      "Epoch 3/20\n",
      "\u001b[1m296/296\u001b[0m \u001b[32m━━━━━━━━━━━━━━━━━━━━\u001b[0m\u001b[37m\u001b[0m \u001b[1m11s\u001b[0m 36ms/step - accuracy: 0.6531 - loss: 0.2025 - val_accuracy: 0.7579 - val_loss: 0.1519\n",
      "Epoch 4/20\n",
      "\u001b[1m296/296\u001b[0m \u001b[32m━━━━━━━━━━━━━━━━━━━━\u001b[0m\u001b[37m\u001b[0m \u001b[1m11s\u001b[0m 36ms/step - accuracy: 0.7745 - loss: 0.1491 - val_accuracy: 0.8467 - val_loss: 0.1164\n",
      "Epoch 5/20\n",
      "\u001b[1m296/296\u001b[0m \u001b[32m━━━━━━━━━━━━━━━━━━━━\u001b[0m\u001b[37m\u001b[0m \u001b[1m11s\u001b[0m 36ms/step - accuracy: 0.8259 - loss: 0.1226 - val_accuracy: 0.8714 - val_loss: 0.0886\n",
      "Epoch 6/20\n",
      "\u001b[1m296/296\u001b[0m \u001b[32m━━━━━━━━━━━━━━━━━━━━\u001b[0m\u001b[37m\u001b[0m \u001b[1m11s\u001b[0m 36ms/step - accuracy: 0.8714 - loss: 0.0927 - val_accuracy: 0.9105 - val_loss: 0.0678\n",
      "Epoch 7/20\n",
      "\u001b[1m296/296\u001b[0m \u001b[32m━━━━━━━━━━━━━━━━━━━━\u001b[0m\u001b[37m\u001b[0m \u001b[1m11s\u001b[0m 36ms/step - accuracy: 0.8916 - loss: 0.0805 - val_accuracy: 0.9198 - val_loss: 0.0648\n",
      "Epoch 8/20\n",
      "\u001b[1m296/296\u001b[0m \u001b[32m━━━━━━━━━━━━━━━━━━━━\u001b[0m\u001b[37m\u001b[0m \u001b[1m11s\u001b[0m 36ms/step - accuracy: 0.8983 - loss: 0.0769 - val_accuracy: 0.9129 - val_loss: 0.0639\n",
      "Epoch 9/20\n",
      "\u001b[1m296/296\u001b[0m \u001b[32m━━━━━━━━━━━━━━━━━━━━\u001b[0m\u001b[37m\u001b[0m \u001b[1m11s\u001b[0m 36ms/step - accuracy: 0.9046 - loss: 0.0713 - val_accuracy: 0.9174 - val_loss: 0.0628\n",
      "Epoch 10/20\n",
      "\u001b[1m296/296\u001b[0m \u001b[32m━━━━━━━━━━━━━━━━━━━━\u001b[0m\u001b[37m\u001b[0m \u001b[1m11s\u001b[0m 36ms/step - accuracy: 0.9064 - loss: 0.0700 - val_accuracy: 0.9338 - val_loss: 0.0530\n",
      "Epoch 11/20\n",
      "\u001b[1m296/296\u001b[0m \u001b[32m━━━━━━━━━━━━━━━━━━━━\u001b[0m\u001b[37m\u001b[0m \u001b[1m11s\u001b[0m 36ms/step - accuracy: 0.9098 - loss: 0.0674 - val_accuracy: 0.9295 - val_loss: 0.0561\n",
      "Epoch 12/20\n",
      "\u001b[1m296/296\u001b[0m \u001b[32m━━━━━━━━━━━━━━━━━━━━\u001b[0m\u001b[37m\u001b[0m \u001b[1m11s\u001b[0m 36ms/step - accuracy: 0.9176 - loss: 0.0633 - val_accuracy: 0.9402 - val_loss: 0.0494\n",
      "Epoch 13/20\n",
      "\u001b[1m296/296\u001b[0m \u001b[32m━━━━━━━━━━━━━━━━━━━━\u001b[0m\u001b[37m\u001b[0m \u001b[1m11s\u001b[0m 36ms/step - accuracy: 0.9173 - loss: 0.0633 - val_accuracy: 0.9390 - val_loss: 0.0486\n",
      "Epoch 14/20\n",
      "\u001b[1m296/296\u001b[0m \u001b[32m━━━━━━━━━━━━━━━━━━━━\u001b[0m\u001b[37m\u001b[0m \u001b[1m11s\u001b[0m 36ms/step - accuracy: 0.9254 - loss: 0.0580 - val_accuracy: 0.9417 - val_loss: 0.0460\n",
      "Epoch 15/20\n",
      "\u001b[1m296/296\u001b[0m \u001b[32m━━━━━━━━━━━━━━━━━━━━\u001b[0m\u001b[37m\u001b[0m \u001b[1m11s\u001b[0m 36ms/step - accuracy: 0.9237 - loss: 0.0594 - val_accuracy: 0.9286 - val_loss: 0.0585\n",
      "Epoch 16/20\n",
      "\u001b[1m296/296\u001b[0m \u001b[32m━━━━━━━━━━━━━━━━━━━━\u001b[0m\u001b[37m\u001b[0m \u001b[1m11s\u001b[0m 36ms/step - accuracy: 0.9251 - loss: 0.0579 - val_accuracy: 0.9462 - val_loss: 0.0444\n",
      "Epoch 17/20\n",
      "\u001b[1m296/296\u001b[0m \u001b[32m━━━━━━━━━━━━━━━━━━━━\u001b[0m\u001b[37m\u001b[0m \u001b[1m11s\u001b[0m 36ms/step - accuracy: 0.9279 - loss: 0.0565 - val_accuracy: 0.9414 - val_loss: 0.0469\n",
      "Epoch 18/20\n",
      "\u001b[1m296/296\u001b[0m \u001b[32m━━━━━━━━━━━━━━━━━━━━\u001b[0m\u001b[37m\u001b[0m \u001b[1m11s\u001b[0m 36ms/step - accuracy: 0.9300 - loss: 0.0560 - val_accuracy: 0.9433 - val_loss: 0.0456\n",
      "Epoch 19/20\n",
      "\u001b[1m296/296\u001b[0m \u001b[32m━━━━━━━━━━━━━━━━━━━━\u001b[0m\u001b[37m\u001b[0m \u001b[1m11s\u001b[0m 36ms/step - accuracy: 0.9298 - loss: 0.0546 - val_accuracy: 0.9429 - val_loss: 0.0450\n",
      "Epoch 20/20\n",
      "\u001b[1m296/296\u001b[0m \u001b[32m━━━━━━━━━━━━━━━━━━━━\u001b[0m\u001b[37m\u001b[0m \u001b[1m11s\u001b[0m 36ms/step - accuracy: 0.9305 - loss: 0.0537 - val_accuracy: 0.9424 - val_loss: 0.0455\n"
     ]
    },
    {
     "data": {
      "text/plain": [
       "<keras.src.callbacks.history.History at 0x7c6fe48b65c0>"
      ]
     },
     "execution_count": 34,
     "metadata": {},
     "output_type": "execute_result"
    }
   ],
   "source": [
    "# Train the model\n",
    "batch_size = 128\n",
    "epochs = 20\n",
    "model3.fit(x_train, y_train, batch_size=batch_size, epochs=epochs, validation_split=0.1, verbose=1)\n"
   ]
  },
  {
   "cell_type": "code",
   "execution_count": 35,
   "metadata": {
    "execution": {
     "iopub.execute_input": "2024-10-21T00:17:30.661491Z",
     "iopub.status.busy": "2024-10-21T00:17:30.661156Z",
     "iopub.status.idle": "2024-10-21T00:17:30.948188Z",
     "shell.execute_reply": "2024-10-21T00:17:30.947249Z",
     "shell.execute_reply.started": "2024-10-21T00:17:30.661451Z"
    },
    "trusted": true
   },
   "outputs": [
    {
     "name": "stdout",
     "output_type": "stream",
     "text": [
      "Test loss: 0.049094054847955704\n",
      "Test accuracy: 0.940833330154419\n"
     ]
    }
   ],
   "source": [
    "# Evaluate the model on test data\n",
    "score3 = model3.evaluate(x_test, y_test, verbose=0)\n",
    "print('Test loss:', score3[0])\n",
    "print('Test accuracy:', score3[1])"
   ]
  },
  {
   "cell_type": "code",
   "execution_count": 36,
   "metadata": {
    "execution": {
     "iopub.execute_input": "2024-10-21T00:37:07.494312Z",
     "iopub.status.busy": "2024-10-21T00:37:07.493920Z",
     "iopub.status.idle": "2024-10-21T00:37:07.499112Z",
     "shell.execute_reply": "2024-10-21T00:37:07.498082Z",
     "shell.execute_reply.started": "2024-10-21T00:37:07.494277Z"
    },
    "trusted": true
   },
   "outputs": [
    {
     "name": "stdout",
     "output_type": "stream",
     "text": [
      "[0.049094054847955704, 0.940833330154419]\n"
     ]
    }
   ],
   "source": [
    "print(score3)"
   ]
  },
  {
   "cell_type": "code",
   "execution_count": 40,
   "metadata": {
    "execution": {
     "iopub.execute_input": "2024-10-21T00:39:37.868935Z",
     "iopub.status.busy": "2024-10-21T00:39:37.868278Z",
     "iopub.status.idle": "2024-10-21T00:39:37.882383Z",
     "shell.execute_reply": "2024-10-21T00:39:37.881484Z",
     "shell.execute_reply.started": "2024-10-21T00:39:37.868896Z"
    },
    "trusted": true
   },
   "outputs": [
    {
     "data": {
      "text/html": [
       "<div>\n",
       "<style scoped>\n",
       "    .dataframe tbody tr th:only-of-type {\n",
       "        vertical-align: middle;\n",
       "    }\n",
       "\n",
       "    .dataframe tbody tr th {\n",
       "        vertical-align: top;\n",
       "    }\n",
       "\n",
       "    .dataframe thead th {\n",
       "        text-align: right;\n",
       "    }\n",
       "</style>\n",
       "<table border=\"1\" class=\"dataframe\">\n",
       "  <thead>\n",
       "    <tr style=\"text-align: right;\">\n",
       "      <th></th>\n",
       "      <th>Model</th>\n",
       "      <th>Loss</th>\n",
       "      <th>Accuracy</th>\n",
       "    </tr>\n",
       "  </thead>\n",
       "  <tbody>\n",
       "    <tr>\n",
       "      <th>0</th>\n",
       "      <td>Binary Cross-Entropy</td>\n",
       "      <td>0.136790</td>\n",
       "      <td>0.945833</td>\n",
       "    </tr>\n",
       "    <tr>\n",
       "      <th>1</th>\n",
       "      <td>Dice</td>\n",
       "      <td>0.313298</td>\n",
       "      <td>0.512500</td>\n",
       "    </tr>\n",
       "    <tr>\n",
       "      <th>2</th>\n",
       "      <td>MSE</td>\n",
       "      <td>0.049094</td>\n",
       "      <td>0.940833</td>\n",
       "    </tr>\n",
       "  </tbody>\n",
       "</table>\n",
       "</div>"
      ],
      "text/plain": [
       "                  Model      Loss  Accuracy\n",
       "0  Binary Cross-Entropy  0.136790  0.945833\n",
       "1                  Dice  0.313298  0.512500\n",
       "2                   MSE  0.049094  0.940833"
      ]
     },
     "execution_count": 40,
     "metadata": {},
     "output_type": "execute_result"
    }
   ],
   "source": [
    "# Create a DataFrame\n",
    "data = {\n",
    "    'Model': ['Binary Cross-Entropy', \n",
    "              'Dice', \n",
    "              'MSE'],\n",
    "    'Loss': [score[0], score2[0], score3[0]],\n",
    "    'Accuracy': [score[1], score2[1], score3[1]]\n",
    "}\n",
    "\n",
    "results_df = pd.DataFrame(data)\n",
    "\n",
    "# Display the DataFrame\n",
    "results_df"
   ]
  },
  {
   "cell_type": "code",
   "execution_count": null,
   "metadata": {},
   "outputs": [],
   "source": []
  }
 ],
 "metadata": {
  "kaggle": {
   "accelerator": "gpu",
   "dataSources": [
    {
     "databundleVersionId": 868348,
     "sourceId": 3960,
     "sourceType": "competition"
    },
    {
     "sourceId": 46106752,
     "sourceType": "kernelVersion"
    }
   ],
   "isGpuEnabled": true,
   "isInternetEnabled": true,
   "language": "python",
   "sourceType": "notebook"
  },
  "kernelspec": {
   "display_name": "Python 3",
   "language": "python",
   "name": "python3"
  },
  "language_info": {
   "codemirror_mode": {
    "name": "ipython",
    "version": 3
   },
   "file_extension": ".py",
   "mimetype": "text/x-python",
   "name": "python",
   "nbconvert_exporter": "python",
   "pygments_lexer": "ipython3",
   "version": "3.10.14"
  }
 },
 "nbformat": 4,
 "nbformat_minor": 4
}
